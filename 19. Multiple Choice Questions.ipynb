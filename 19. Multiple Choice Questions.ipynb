{
 "cells": [
  {
   "cell_type": "markdown",
   "metadata": {},
   "source": [
    "# 19. Multiple Choice Questions\n",
    "\n",
    "## Today we will deal with questions that have many answers. \n",
    "### That is:```['Q16_text', 'Q9_text', 'Q28_text', 'Q29_text', 'Q31_text']```"
   ]
  },
  {
   "cell_type": "markdown",
   "metadata": {},
   "source": [
    "### First: run this cell to load the survey"
   ]
  },
  {
   "cell_type": "code",
   "execution_count": 24,
   "metadata": {},
   "outputs": [
    {
     "data": {
      "text/html": [
       "<div>\n",
       "<style scoped>\n",
       "    .dataframe tbody tr th:only-of-type {\n",
       "        vertical-align: middle;\n",
       "    }\n",
       "\n",
       "    .dataframe tbody tr th {\n",
       "        vertical-align: top;\n",
       "    }\n",
       "\n",
       "    .dataframe thead th {\n",
       "        text-align: right;\n",
       "    }\n",
       "</style>\n",
       "<table border=\"1\" class=\"dataframe\">\n",
       "  <thead>\n",
       "    <tr style=\"text-align: right;\">\n",
       "      <th></th>\n",
       "      <th>Index</th>\n",
       "      <th>Q1_text</th>\n",
       "      <th>Q1_code</th>\n",
       "      <th>Q2_text</th>\n",
       "      <th>Q2_code</th>\n",
       "      <th>Q3_text</th>\n",
       "      <th>Q3_code</th>\n",
       "      <th>Q4_text</th>\n",
       "      <th>Q4_code</th>\n",
       "      <th>Q5_text</th>\n",
       "      <th>...</th>\n",
       "      <th>Q30_code</th>\n",
       "      <th>Q31_text</th>\n",
       "      <th>Q31_code</th>\n",
       "      <th>Q32_text</th>\n",
       "      <th>Q32_code</th>\n",
       "      <th>Q33_text</th>\n",
       "      <th>Q33_code</th>\n",
       "      <th>Q34_text</th>\n",
       "      <th>Q34_code</th>\n",
       "      <th>Q29 text</th>\n",
       "    </tr>\n",
       "  </thead>\n",
       "  <tbody>\n",
       "    <tr>\n",
       "      <th>0</th>\n",
       "      <td>6101</td>\n",
       "      <td>Grade 6</td>\n",
       "      <td>1</td>\n",
       "      <td>Male</td>\n",
       "      <td>1</td>\n",
       "      <td>I live with my parents</td>\n",
       "      <td>2</td>\n",
       "      <td>No</td>\n",
       "      <td>2</td>\n",
       "      <td>NaN</td>\n",
       "      <td>...</td>\n",
       "      <td>1</td>\n",
       "      <td>['Bilibili']</td>\n",
       "      <td>6</td>\n",
       "      <td>Never</td>\n",
       "      <td>1</td>\n",
       "      <td>Sometimes (Every other week)</td>\n",
       "      <td>3</td>\n",
       "      <td>NaN</td>\n",
       "      <td>-1</td>\n",
       "      <td>NaN</td>\n",
       "    </tr>\n",
       "    <tr>\n",
       "      <th>1</th>\n",
       "      <td>6102</td>\n",
       "      <td>Grade 6</td>\n",
       "      <td>1</td>\n",
       "      <td>Male</td>\n",
       "      <td>1</td>\n",
       "      <td>I live with my parents</td>\n",
       "      <td>2</td>\n",
       "      <td>Yes</td>\n",
       "      <td>1</td>\n",
       "      <td>One</td>\n",
       "      <td>...</td>\n",
       "      <td>1</td>\n",
       "      <td>['WeChat', 'Xiaohongshu', 'Other']</td>\n",
       "      <td>1,4,8</td>\n",
       "      <td>Every day</td>\n",
       "      <td>5</td>\n",
       "      <td>Often (2-3 times a week)</td>\n",
       "      <td>5</td>\n",
       "      <td>NaN</td>\n",
       "      <td>-1</td>\n",
       "      <td>NaN</td>\n",
       "    </tr>\n",
       "    <tr>\n",
       "      <th>2</th>\n",
       "      <td>6103</td>\n",
       "      <td>Grade 6</td>\n",
       "      <td>1</td>\n",
       "      <td>Male</td>\n",
       "      <td>1</td>\n",
       "      <td>I live with my grandparents</td>\n",
       "      <td>3</td>\n",
       "      <td>No</td>\n",
       "      <td>2</td>\n",
       "      <td>NaN</td>\n",
       "      <td>...</td>\n",
       "      <td>1</td>\n",
       "      <td>['WeChat', 'Xiaohongshu', 'Other']</td>\n",
       "      <td>1,4,8</td>\n",
       "      <td>Never</td>\n",
       "      <td>1</td>\n",
       "      <td>Often (2-3 times a week)</td>\n",
       "      <td>5</td>\n",
       "      <td>NaN</td>\n",
       "      <td>-1</td>\n",
       "      <td>NaN</td>\n",
       "    </tr>\n",
       "    <tr>\n",
       "      <th>3</th>\n",
       "      <td>6104</td>\n",
       "      <td>Grade 6</td>\n",
       "      <td>1</td>\n",
       "      <td>Female</td>\n",
       "      <td>2</td>\n",
       "      <td>I live with my parents</td>\n",
       "      <td>2</td>\n",
       "      <td>No</td>\n",
       "      <td>2</td>\n",
       "      <td>NaN</td>\n",
       "      <td>...</td>\n",
       "      <td>2</td>\n",
       "      <td>['WeChat', 'TikTok (Douyin)', 'Xiaohongshu']</td>\n",
       "      <td>1,2,4</td>\n",
       "      <td>Once or twice per month</td>\n",
       "      <td>2</td>\n",
       "      <td>Often (2-3 times a week)</td>\n",
       "      <td>5</td>\n",
       "      <td>NaN</td>\n",
       "      <td>-1</td>\n",
       "      <td>NaN</td>\n",
       "    </tr>\n",
       "    <tr>\n",
       "      <th>4</th>\n",
       "      <td>6105</td>\n",
       "      <td>Grade 6</td>\n",
       "      <td>1</td>\n",
       "      <td>Male</td>\n",
       "      <td>1</td>\n",
       "      <td>I live with my parents</td>\n",
       "      <td>2</td>\n",
       "      <td>Yes</td>\n",
       "      <td>1</td>\n",
       "      <td>One</td>\n",
       "      <td>...</td>\n",
       "      <td>1</td>\n",
       "      <td>['Other']</td>\n",
       "      <td>8</td>\n",
       "      <td>Once or twice per month</td>\n",
       "      <td>2</td>\n",
       "      <td>Never</td>\n",
       "      <td>1</td>\n",
       "      <td>NaN</td>\n",
       "      <td>-1</td>\n",
       "      <td>NaN</td>\n",
       "    </tr>\n",
       "    <tr>\n",
       "      <th>...</th>\n",
       "      <td>...</td>\n",
       "      <td>...</td>\n",
       "      <td>...</td>\n",
       "      <td>...</td>\n",
       "      <td>...</td>\n",
       "      <td>...</td>\n",
       "      <td>...</td>\n",
       "      <td>...</td>\n",
       "      <td>...</td>\n",
       "      <td>...</td>\n",
       "      <td>...</td>\n",
       "      <td>...</td>\n",
       "      <td>...</td>\n",
       "      <td>...</td>\n",
       "      <td>...</td>\n",
       "      <td>...</td>\n",
       "      <td>...</td>\n",
       "      <td>...</td>\n",
       "      <td>...</td>\n",
       "      <td>...</td>\n",
       "      <td>...</td>\n",
       "    </tr>\n",
       "    <tr>\n",
       "      <th>143</th>\n",
       "      <td>C7</td>\n",
       "      <td>Grade 8</td>\n",
       "      <td>3</td>\n",
       "      <td>Female</td>\n",
       "      <td>2</td>\n",
       "      <td>I live with my parents</td>\n",
       "      <td>2</td>\n",
       "      <td>No</td>\n",
       "      <td>2</td>\n",
       "      <td>NaN</td>\n",
       "      <td>...</td>\n",
       "      <td>1</td>\n",
       "      <td>['WeChat', 'TikTok (Douyin)', 'Other']</td>\n",
       "      <td>1,2,8</td>\n",
       "      <td>Once or twice per month</td>\n",
       "      <td>2</td>\n",
       "      <td>Occasionally (Once a month)</td>\n",
       "      <td>2</td>\n",
       "      <td>Class A</td>\n",
       "      <td>1</td>\n",
       "      <td>NaN</td>\n",
       "    </tr>\n",
       "    <tr>\n",
       "      <th>144</th>\n",
       "      <td>C8</td>\n",
       "      <td>Grade 7</td>\n",
       "      <td>2</td>\n",
       "      <td>Female</td>\n",
       "      <td>2</td>\n",
       "      <td>I live with my parents</td>\n",
       "      <td>2</td>\n",
       "      <td>Yes</td>\n",
       "      <td>1</td>\n",
       "      <td>One</td>\n",
       "      <td>...</td>\n",
       "      <td>3</td>\n",
       "      <td>['WeChat', 'Xiaohongshu', 'Bilibili']</td>\n",
       "      <td>1,4,6</td>\n",
       "      <td>Once or twice per month</td>\n",
       "      <td>2</td>\n",
       "      <td>Often (2-3 times a week)</td>\n",
       "      <td>5</td>\n",
       "      <td>Class A</td>\n",
       "      <td>1</td>\n",
       "      <td>NaN</td>\n",
       "    </tr>\n",
       "    <tr>\n",
       "      <th>145</th>\n",
       "      <td>C9</td>\n",
       "      <td>Grade 8</td>\n",
       "      <td>3</td>\n",
       "      <td>Female</td>\n",
       "      <td>2</td>\n",
       "      <td>I live in the dorm</td>\n",
       "      <td>1</td>\n",
       "      <td>Yes</td>\n",
       "      <td>1</td>\n",
       "      <td>One</td>\n",
       "      <td>...</td>\n",
       "      <td>1</td>\n",
       "      <td>['WeChat', 'TikTok (Douyin)', 'Bilibili']</td>\n",
       "      <td>1,2,6</td>\n",
       "      <td>Once or twice per month</td>\n",
       "      <td>2</td>\n",
       "      <td>Regularly (Once a week)</td>\n",
       "      <td>4</td>\n",
       "      <td>Class A</td>\n",
       "      <td>1</td>\n",
       "      <td>NaN</td>\n",
       "    </tr>\n",
       "    <tr>\n",
       "      <th>146</th>\n",
       "      <td>C10</td>\n",
       "      <td>Grade 7</td>\n",
       "      <td>2</td>\n",
       "      <td>Female</td>\n",
       "      <td>2</td>\n",
       "      <td>I live in the dorm</td>\n",
       "      <td>1</td>\n",
       "      <td>No</td>\n",
       "      <td>2</td>\n",
       "      <td>NaN</td>\n",
       "      <td>...</td>\n",
       "      <td>2</td>\n",
       "      <td>['WeChat', 'TikTok (Douyin)', 'Xiaohongshu']</td>\n",
       "      <td>1,2,4</td>\n",
       "      <td>Never</td>\n",
       "      <td>1</td>\n",
       "      <td>Regularly (Once a week)</td>\n",
       "      <td>4</td>\n",
       "      <td>Class A</td>\n",
       "      <td>1</td>\n",
       "      <td>NaN</td>\n",
       "    </tr>\n",
       "    <tr>\n",
       "      <th>147</th>\n",
       "      <td>C11</td>\n",
       "      <td>Grade 7</td>\n",
       "      <td>2</td>\n",
       "      <td>Female</td>\n",
       "      <td>2</td>\n",
       "      <td>I live with my parents</td>\n",
       "      <td>2</td>\n",
       "      <td>No</td>\n",
       "      <td>2</td>\n",
       "      <td>NaN</td>\n",
       "      <td>...</td>\n",
       "      <td>5</td>\n",
       "      <td>['Kuaishou']</td>\n",
       "      <td>7</td>\n",
       "      <td>Never</td>\n",
       "      <td>1</td>\n",
       "      <td>Never</td>\n",
       "      <td>1</td>\n",
       "      <td>Class A</td>\n",
       "      <td>1</td>\n",
       "      <td>NaN</td>\n",
       "    </tr>\n",
       "  </tbody>\n",
       "</table>\n",
       "<p>148 rows × 70 columns</p>\n",
       "</div>"
      ],
      "text/plain": [
       "    Index  Q1_text  Q1_code Q2_text  Q2_code                      Q3_text  \\\n",
       "0    6101  Grade 6        1    Male        1       I live with my parents   \n",
       "1    6102  Grade 6        1    Male        1       I live with my parents   \n",
       "2    6103  Grade 6        1    Male        1  I live with my grandparents   \n",
       "3    6104  Grade 6        1  Female        2       I live with my parents   \n",
       "4    6105  Grade 6        1    Male        1       I live with my parents   \n",
       "..    ...      ...      ...     ...      ...                          ...   \n",
       "143    C7  Grade 8        3  Female        2       I live with my parents   \n",
       "144    C8  Grade 7        2  Female        2       I live with my parents   \n",
       "145    C9  Grade 8        3  Female        2           I live in the dorm   \n",
       "146   C10  Grade 7        2  Female        2           I live in the dorm   \n",
       "147   C11  Grade 7        2  Female        2       I live with my parents   \n",
       "\n",
       "     Q3_code Q4_text  Q4_code Q5_text  ... Q30_code  \\\n",
       "0          2      No        2     NaN  ...        1   \n",
       "1          2     Yes        1     One  ...        1   \n",
       "2          3      No        2     NaN  ...        1   \n",
       "3          2      No        2     NaN  ...        2   \n",
       "4          2     Yes        1     One  ...        1   \n",
       "..       ...     ...      ...     ...  ...      ...   \n",
       "143        2      No        2     NaN  ...        1   \n",
       "144        2     Yes        1     One  ...        3   \n",
       "145        1     Yes        1     One  ...        1   \n",
       "146        1      No        2     NaN  ...        2   \n",
       "147        2      No        2     NaN  ...        5   \n",
       "\n",
       "                                         Q31_text Q31_code  \\\n",
       "0                                    ['Bilibili']        6   \n",
       "1              ['WeChat', 'Xiaohongshu', 'Other']    1,4,8   \n",
       "2              ['WeChat', 'Xiaohongshu', 'Other']    1,4,8   \n",
       "3    ['WeChat', 'TikTok (Douyin)', 'Xiaohongshu']    1,2,4   \n",
       "4                                       ['Other']        8   \n",
       "..                                            ...      ...   \n",
       "143        ['WeChat', 'TikTok (Douyin)', 'Other']    1,2,8   \n",
       "144         ['WeChat', 'Xiaohongshu', 'Bilibili']    1,4,6   \n",
       "145     ['WeChat', 'TikTok (Douyin)', 'Bilibili']    1,2,6   \n",
       "146  ['WeChat', 'TikTok (Douyin)', 'Xiaohongshu']    1,2,4   \n",
       "147                                  ['Kuaishou']        7   \n",
       "\n",
       "                    Q32_text  Q32_code                      Q33_text  \\\n",
       "0                      Never         1  Sometimes (Every other week)   \n",
       "1                  Every day         5      Often (2-3 times a week)   \n",
       "2                      Never         1      Often (2-3 times a week)   \n",
       "3    Once or twice per month         2      Often (2-3 times a week)   \n",
       "4    Once or twice per month         2                         Never   \n",
       "..                       ...       ...                           ...   \n",
       "143  Once or twice per month         2   Occasionally (Once a month)   \n",
       "144  Once or twice per month         2      Often (2-3 times a week)   \n",
       "145  Once or twice per month         2       Regularly (Once a week)   \n",
       "146                    Never         1       Regularly (Once a week)   \n",
       "147                    Never         1                         Never   \n",
       "\n",
       "     Q33_code Q34_text Q34_code Q29 text  \n",
       "0           3      NaN       -1      NaN  \n",
       "1           5      NaN       -1      NaN  \n",
       "2           5      NaN       -1      NaN  \n",
       "3           5      NaN       -1      NaN  \n",
       "4           1      NaN       -1      NaN  \n",
       "..        ...      ...      ...      ...  \n",
       "143         2  Class A        1      NaN  \n",
       "144         5  Class A        1      NaN  \n",
       "145         4  Class A        1      NaN  \n",
       "146         4  Class A        1      NaN  \n",
       "147         1  Class A        1      NaN  \n",
       "\n",
       "[148 rows x 70 columns]"
      ]
     },
     "execution_count": 24,
     "metadata": {},
     "output_type": "execute_result"
    }
   ],
   "source": [
    "import pandas as pd\n",
    "import matplotlib.pyplot as plt\n",
    "import ast \n",
    "\n",
    "survey = pd.read_csv('/Users/nadzi/Documents/Datasets/Shanghai Thomas Survey/Shanghai_Thomas_Survey_datasets/CSV ready/survey.csv')\n",
    "\n",
    "survey"
   ]
  },
  {
   "cell_type": "code",
   "execution_count": null,
   "metadata": {},
   "outputs": [],
   "source": []
  },
  {
   "cell_type": "markdown",
   "metadata": {},
   "source": [
    "## Clean the columns with multiple answers.\n",
    "\n",
    "## You must run this cell!\n",
    "\n",
    "### Before we do anything, we need \"clean\" the columns to make them ready. To do that you need to run the code below:"
   ]
  },
  {
   "cell_type": "code",
   "execution_count": null,
   "metadata": {},
   "outputs": [],
   "source": []
  },
  {
   "cell_type": "code",
   "execution_count": 25,
   "metadata": {},
   "outputs": [
    {
     "name": "stdout",
     "output_type": "stream",
     "text": [
      "The cleaning is done\n"
     ]
    },
    {
     "name": "stderr",
     "output_type": "stream",
     "text": [
      "/var/folders/tt/btlv0gfs7sb7jp967ssxpc500000gn/T/ipykernel_2129/911555014.py:23: FutureWarning: DataFrame.applymap has been deprecated. Use DataFrame.map instead.\n",
      "  survey = survey[survey[multi_choice_columns].applymap(bool).any(axis=1)]\n"
     ]
    }
   ],
   "source": [
    "# Define multiple-choice columns\n",
    "multi_choice_columns = ['Q16_text', 'Q9_text', 'Q28_text', 'Q29_text', 'Q31_text']\n",
    "\n",
    "def clean_list_string(s):\n",
    "    \"\"\"Convert a string to a list and clean each item.\"\"\"\n",
    "    try:\n",
    "        items = ast.literal_eval(s)\n",
    "        if isinstance(items, list):\n",
    "            return [item.strip(\"[]'\\\" \").strip() for item in items if item.strip(\"[]'\\\" \").strip()]\n",
    "    except:\n",
    "        pass\n",
    "    return []\n",
    "\n",
    "# Create a cleaned copy of the original survey\n",
    "survey = survey.copy()\n",
    "\n",
    "# Clean each multiple-choice column\n",
    "for col in multi_choice_columns:\n",
    "    if col in survey.columns:\n",
    "        survey[col] = survey[col].apply(clean_list_string)\n",
    "\n",
    "# Optionally drop rows where all multi-choice columns are empty\n",
    "survey = survey[survey[multi_choice_columns].applymap(bool).any(axis=1)]\n",
    "\n",
    "# Check cleaned result\n",
    "print(\"The cleaning is done\")\n"
   ]
  },
  {
   "cell_type": "code",
   "execution_count": null,
   "metadata": {},
   "outputs": [],
   "source": []
  },
  {
   "cell_type": "markdown",
   "metadata": {},
   "source": [
    "## 1. Counts for multiple choice questions\n",
    "### Here's how you can get the counts for each multiple choice question. "
   ]
  },
  {
   "cell_type": "code",
   "execution_count": 26,
   "metadata": {},
   "outputs": [
    {
     "data": {
      "text/plain": [
       "Q9_text\n",
       "Novels              91\n",
       "Comic books         59\n",
       "Short stories       57\n",
       "School materials    57\n",
       "Non-fiction         23\n",
       "Other               10\n",
       "Name: count, dtype: int64"
      ]
     },
     "execution_count": 26,
     "metadata": {},
     "output_type": "execute_result"
    }
   ],
   "source": [
    "survey.explode('Q9_text')['Q9_text'].value_counts()"
   ]
  },
  {
   "cell_type": "code",
   "execution_count": 27,
   "metadata": {},
   "outputs": [
    {
     "data": {
      "text/plain": [
       "Q31_text\n",
       "WeChat             111\n",
       "Bilibili            51\n",
       "Xiaohongshu         46\n",
       "TikTok (Douyin)     45\n",
       "Other               44\n",
       "QQ                  18\n",
       "Kuaishou            16\n",
       "Weibo               16\n",
       "Name: count, dtype: int64"
      ]
     },
     "execution_count": 27,
     "metadata": {},
     "output_type": "execute_result"
    }
   ],
   "source": [
    "survey.explode('Q31_text')['Q31_text'].value_counts()\n"
   ]
  },
  {
   "cell_type": "markdown",
   "metadata": {},
   "source": [
    "## Your task: see counts for these 3 questions 'Q16_text', 'Q28_text', 'Q29_text'"
   ]
  },
  {
   "cell_type": "code",
   "execution_count": null,
   "metadata": {},
   "outputs": [],
   "source": [
    "survey.explode('QXX_text')['QXX_text'].value_counts()"
   ]
  },
  {
   "cell_type": "code",
   "execution_count": null,
   "metadata": {},
   "outputs": [],
   "source": []
  },
  {
   "cell_type": "markdown",
   "metadata": {},
   "source": [
    "## 2. Percentages for multiple choice questions"
   ]
  },
  {
   "cell_type": "code",
   "execution_count": 28,
   "metadata": {},
   "outputs": [
    {
     "data": {
      "text/plain": [
       "Q9_text\n",
       "Novels              31.0\n",
       "Comic books         20.0\n",
       "Short stories       19.0\n",
       "School materials    19.0\n",
       "Non-fiction          8.0\n",
       "Other                3.0\n",
       "Name: proportion, dtype: float64"
      ]
     },
     "execution_count": 28,
     "metadata": {},
     "output_type": "execute_result"
    }
   ],
   "source": [
    "Q9_percentages = survey.explode('Q9_text')['Q9_text'].value_counts(normalize=True).round(2) * 100\n",
    "Q9_percentages"
   ]
  },
  {
   "cell_type": "code",
   "execution_count": 29,
   "metadata": {},
   "outputs": [
    {
     "data": {
      "text/plain": [
       "Q31_text\n",
       "WeChat             111\n",
       "Bilibili            51\n",
       "Xiaohongshu         46\n",
       "TikTok (Douyin)     45\n",
       "Other               44\n",
       "QQ                  18\n",
       "Kuaishou            16\n",
       "Weibo               16\n",
       "Name: count, dtype: int64"
      ]
     },
     "execution_count": 29,
     "metadata": {},
     "output_type": "execute_result"
    }
   ],
   "source": [
    "Q31_percentages = survey.explode('Q31_text')['Q31_text'].value_counts()\n",
    "Q31_percentages"
   ]
  },
  {
   "cell_type": "code",
   "execution_count": null,
   "metadata": {},
   "outputs": [],
   "source": []
  },
  {
   "cell_type": "markdown",
   "metadata": {},
   "source": [
    "## Your task: see percentages for these 3 questions 'Q16_text', 'Q28_text', 'Q29_text'"
   ]
  },
  {
   "cell_type": "markdown",
   "metadata": {},
   "source": [
    "QXX_percentages = survey.explode('QXX_text')['QXX_text'].value_counts()\n",
    "QXX_percentages"
   ]
  },
  {
   "cell_type": "code",
   "execution_count": null,
   "metadata": {},
   "outputs": [],
   "source": []
  },
  {
   "cell_type": "markdown",
   "metadata": {},
   "source": [
    "## 3. Easy bar charts \n",
    "\n",
    "You can make the easiets horizontal bar charts with this one line of code:"
   ]
  },
  {
   "cell_type": "code",
   "execution_count": 32,
   "metadata": {},
   "outputs": [
    {
     "data": {
      "text/plain": [
       "<Axes: ylabel='Q9_text'>"
      ]
     },
     "execution_count": 32,
     "metadata": {},
     "output_type": "execute_result"
    },
    {
     "data": {
      "image/png": "[encoded data removed]",
      "text/plain": [
       "<Figure size 640x480 with 1 Axes>"
      ]
     },
     "metadata": {},
     "output_type": "display_data"
    }
   ],
   "source": [
    "survey.explode('Q9_text')['Q9_text'].value_counts().plot(kind='barh')\n"
   ]
  },
  {
   "cell_type": "code",
   "execution_count": null,
   "metadata": {},
   "outputs": [],
   "source": []
  },
  {
   "cell_type": "markdown",
   "metadata": {},
   "source": [
    "## Your task: make bar charts for these questions questions 'Q16_text', 'Q28_text', 'Q29_text', 'Q31_text'"
   ]
  },
  {
   "cell_type": "code",
   "execution_count": null,
   "metadata": {},
   "outputs": [],
   "source": [
    "survey.explode('QX_text')['QX_text'].value_counts().plot(kind='barh')"
   ]
  }
 ],
 "metadata": {
  "kernelspec": {
   "display_name": "datascience",
   "language": "python",
   "name": "python3"
  },
  "language_info": {
   "codemirror_mode": {
    "name": "ipython",
    "version": 3
   },
   "file_extension": ".py",
   "mimetype": "text/x-python",
   "name": "python",
   "nbconvert_exporter": "python",
   "pygments_lexer": "ipython3",
   "version": "3.10.16"
  }
 },
 "nbformat": 4,
 "nbformat_minor": 2
}
